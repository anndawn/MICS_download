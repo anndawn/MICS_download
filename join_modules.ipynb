{
 "cells": [
  {
   "cell_type": "code",
   "execution_count": 1,
   "metadata": {},
   "outputs": [],
   "source": [
    "import pandas as pd\n",
    "import pyreadstat\n",
    "import os\n",
    "from pathlib import Path\n",
    "import re\n",
    "import functools\n",
    "import pickle"
   ]
  },
  {
   "cell_type": "code",
   "execution_count": 2,
   "metadata": {},
   "outputs": [],
   "source": [
    "MICS6_varstr= 'LN WB2 WB5 WB6 WB7 WB8 WB9 WB10 WB11 WB12 WB13 WB14 wmweight WM17 MWB2   MWB5   MWB6  MWB7   MWB8   MWB9  MWB10   MWB11   MWB12  MWB13    MWB14  mnweight  MWM17 HH3  HH46  HH47  ED4  ED4A ED4B ED5 ED6 ED8 ED9 ED10 ED15 ED16 ED6A ED6B ED8A ED8B HHWEIGHT WB6A WB6B WB12A WB12B'\n",
    "MICS5_varstr='LN WB3 WB4 WB5 WB6 WB7 wmweight  WM7  MWB3  MWB4  MWB5 MWB6 MWB7 mnweight  MWM7 HH3  HH9   HH10 ED3 ED4A ED4B ED5 ED6 ED7 ED8 ED6A ED6B ED8A ED8B HHWEIGHT WB6A WB6B WB12A WB12B'\n",
    "MICS4_varstr ='LN WB6 WB7 wmweight WB3 WB4 WB5 WM7 MWM7 MWB3 MWB5 MWB7 HH3  HH9  HH10  ED3 ED4A ED4B ED5 ED6 ED7 ED8 ED6A ED6B ED8A ED8B HHWEIGHT WB6A WB6B WB12A WB12B'\n",
    "MICS3_varstr='LN WM10 WM11 WM12 WM13  WM14  wmweight  WM7 HH3 HH9 HH10 ED2 ED3 ED4 ED5 ED6 ED7 ED8 ED6A ED6B ED8A ED8B HHWEIGHT WB6A WB6B WB12A WB12B  ED4A ED4B '"
   ]
  },
  {
   "cell_type": "code",
   "execution_count": 3,
   "metadata": {},
   "outputs": [],
   "source": [
    "var_6=re.split('\\s+',MICS6_varstr)\n",
    "var_5=re.split('\\s+',MICS5_varstr)\n",
    "var_4=re.split('\\s+',MICS4_varstr)\n",
    "var_3=re.split('\\s+',MICS3_varstr)"
   ]
  },
  {
   "cell_type": "code",
   "execution_count": 4,
   "metadata": {},
   "outputs": [],
   "source": [
    "# using survey batch to decide variable name for the literacy question\n",
    "def get_lit_variables (survey,ex_variables):\n",
    "#   make a copy of the variables\n",
    "    if 'MICS3' in survey:\n",
    "        variables=var_3[:]\n",
    "    elif 'MICS4' in survey:\n",
    "        variables=var_4[:]\n",
    "    elif 'MICS5' in survey:\n",
    "        variables=var_5[:]\n",
    "    elif 'MICS6' in survey:\n",
    "        variables=var_6[:]\n",
    "    \n",
    "    variables.extend(ex_variables)\n",
    "    variables_lower= [i.lower() for i in variables]\n",
    "    variables.extend(variables_lower)\n",
    "    return variables"
   ]
  },
  {
   "cell_type": "code",
   "execution_count": 5,
   "metadata": {},
   "outputs": [],
   "source": [
    "test_hh_variables=['HH1','HH2','HL4','HL6','HL1','HH_WEIGHT','HH3']"
   ]
  },
  {
   "cell_type": "code",
   "execution_count": 6,
   "metadata": {},
   "outputs": [
    {
     "data": {
      "text/plain": [
       "['HH1', 'HH2', 'HL4', 'HL6', 'HL1', 'HH_WEIGHT', 'HH3']"
      ]
     },
     "execution_count": 6,
     "metadata": {},
     "output_type": "execute_result"
    }
   ],
   "source": [
    "test_hh_variables"
   ]
  },
  {
   "cell_type": "code",
   "execution_count": 7,
   "metadata": {},
   "outputs": [],
   "source": [
    "# read in the SPSS data of selected variables\n",
    "def get_data(filename,survey_name,variables):\n",
    "    variables=get_lit_variables(survey_name,variables)\n",
    "    df,meta= pyreadstat.read_sav(filename,apply_value_formats=True, usecols=variables)\n",
    "    df['survey']=survey_name        \n",
    "    df.columns = df.columns.str.upper()\n",
    "    return [df,meta]"
   ]
  },
  {
   "cell_type": "code",
   "execution_count": 14,
   "metadata": {},
   "outputs": [],
   "source": [
    "# walk through the downloaded files folder, put joined data into a dataframe for each survey\n",
    "def walk_4_data(datapath,hh_variables):\n",
    "#   all_obj used to store all the dataframes for all surveys\n",
    "    all_obj={}\n",
    "    df_meta=pd.DataFrame(columns=['var','label','survey','module'])\n",
    "    for root, dirs, files in os.walk(datapath):\n",
    "        for dire in dirs:\n",
    "#           go inside the microdata folder where sav files are stored\n",
    "#           MICS2 doesn't have literacy question in woman modules, skip MICS2 folders\n",
    "\n",
    "            if (dire =='microdata') &('MICS2' not in os.path.join(root, dire)):\n",
    "        \n",
    "#           empty dfs for this survey\n",
    "                dfs=[]\n",
    "                current_dir=os.path.join(root, dire)\n",
    "        \n",
    "#               walk through the SAV files in microdata folder\n",
    "                for name in os.listdir(current_dir): \n",
    "                    if name.lower().endswith('mn.sav')|name.lower().endswith('wm.sav')|name.lower().endswith('hl.sav'):\n",
    "#                       SPSS file path\n",
    "                        path=os.path.join(current_dir, name)\n",
    "#                       grandparent folder of the file path, survey_path contains the survey name\n",
    "                        survey_path=Path(path).parents[1]\n",
    "#                       Basename is the survey name\n",
    "                        survey=os.path.basename(survey_path)\n",
    "    \n",
    "#                       Get data from SPSS file and add to dfs\n",
    "                        variables=get_lit_variables(survey,hh_variables)\n",
    "                        result_survey=get_data(path,survey,variables)\n",
    "                        df_single=result_survey[0]\n",
    "                        if ('HL1') in df_single.columns:\n",
    "                            df_single.rename(columns={'HL1':'LN'},inplace=True)\n",
    "                        dfs.append(df_single)\n",
    "#                       merge different module lieracy information into one dataframe\n",
    "\n",
    "                        my_dict=result_survey[1].column_names_to_labels\n",
    "                        df_single_meta = pd.DataFrame(list(my_dict.items()),columns = ['var','label']) \n",
    "                        df_single_meta['survey']=survey\n",
    "                        if name.lower().endswith('mn.sav'):\n",
    "                            df_single_meta['module']='Man'\n",
    "                        if name.lower().endswith('wm.sav'):\n",
    "                            df_single_meta['module']='Woman'\n",
    "                        if name.lower().endswith('hl.sav'):\n",
    "                            df_single_meta['module']='Household'\n",
    "                        df_meta=df_meta.append(df_single_meta)\n",
    "\n",
    "\n",
    "                if  len(dfs)>1:\n",
    "\n",
    "                    df_final = functools.reduce(lambda left,right: pd.merge(left,right,on=['SURVEY','HH1','HH2','LN'],how='outer'), dfs)\n",
    "                    if 'HH3_y' in df_final.columns:\n",
    "                        df_final.drop(columns='HH3_y',inplace=True)\n",
    "                        df_final.rename(columns={'HH3_x':'HH3'},inplace=True)\n",
    "                    if 'HH9_y' in df_final.columns:\n",
    "                        df_final.drop(columns='HH9_y',inplace=True)\n",
    "                        df_final.rename(columns={'HH9_x':'HH9'},inplace=True)\n",
    "                    if 'HH10_y' in df_final.columns:\n",
    "                        df_final.drop(columns='HH10_y',inplace=True)\n",
    "                        df_final.rename(columns={'HH10_x':'HH10'},inplace=True)\n",
    "                    df_final.to_csv('result_csv//'+survey+'.csv',encoding='utf-8-sig')\n",
    "                    all_obj[survey]= df_final\n",
    "                    print(survey)\n",
    "\n",
    "\n",
    "    return [all_obj,df_meta]"
   ]
  },
  {
   "cell_type": "code",
   "execution_count": 15,
   "metadata": {
    "scrolled": true
   },
   "outputs": [],
   "source": [
    "all_result=walk_4_data('C://Users//annda//1//Documents//UIS//Nov//default//data_downloaded',test_hh_variables)"
   ]
  },
  {
   "cell_type": "code",
   "execution_count": 18,
   "metadata": {},
   "outputs": [],
   "source": [
    "df_metadata_total=all_result[1]\n",
    "df_metadata_total.reset_index(inplace=True,drop=True)\n",
    "df_metadata_total.to_csv('result_csv//metadata.csv',encoding='utf-8-sig')"
   ]
  },
  {
   "cell_type": "code",
   "execution_count": 11,
   "metadata": {},
   "outputs": [],
   "source": [
    "f = open(\"result//all.pkl\",\"wb\")\n",
    "pickle.dump(all_result[0],f)\n",
    "f.close()"
   ]
  }
 ],
 "metadata": {
  "kernelspec": {
   "display_name": "Python 3",
   "language": "python",
   "name": "python3"
  },
  "language_info": {
   "codemirror_mode": {
    "name": "ipython",
    "version": 3
   },
   "file_extension": ".py",
   "mimetype": "text/x-python",
   "name": "python",
   "nbconvert_exporter": "python",
   "pygments_lexer": "ipython3",
   "version": "3.8.3"
  }
 },
 "nbformat": 4,
 "nbformat_minor": 4
}
